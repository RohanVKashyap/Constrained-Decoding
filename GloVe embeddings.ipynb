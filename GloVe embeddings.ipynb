{
  "nbformat": 4,
  "nbformat_minor": 0,
  "metadata": {
    "colab": {
      "name": "GloVe embeddings20.ipynb",
      "provenance": []
    },
    "kernelspec": {
      "name": "python3",
      "display_name": "Python 3"
    }
  },
  "cells": [
    {
      "cell_type": "code",
      "metadata": {
        "id": "W9_LYqZNTLMD"
      },
      "source": [
        "import tensorflow as tf\n",
        "import numpy as np\n",
        "import os\n",
        "import pathlib\n",
        "from tensorflow import keras"
      ],
      "execution_count": 1,
      "outputs": []
    },
    {
      "cell_type": "code",
      "metadata": {
        "id": "2k7JRFQ1UmFo",
        "outputId": "4bed9c88-f5dd-4ce7-a10e-85b028809da7",
        "colab": {
          "base_uri": "https://localhost:8080/",
          "height": 52
        }
      },
      "source": [
        "#Newsgroup20dataset->20000 messages with 20 different topic categories\n",
        "data_path=tf.keras.utils.get_file(\n",
        "    'news20.tar.gz',\n",
        "    'http://www.cs.cmu.edu/afs/cs.cmu.edu/project/theo-20/www/data/news20.tar.gz',\n",
        "    untar=True)"
      ],
      "execution_count": 2,
      "outputs": [
        {
          "output_type": "stream",
          "text": [
            "Downloading data from http://www.cs.cmu.edu/afs/cs.cmu.edu/project/theo-20/www/data/news20.tar.gz\n",
            "17334272/17329808 [==============================] - 9s 1us/step\n"
          ],
          "name": "stdout"
        }
      ]
    },
    {
      "cell_type": "code",
      "metadata": {
        "id": "n_ZTVOTwVCEO",
        "outputId": "077d1aed-2542-4715-c5bd-20421fd36402",
        "colab": {
          "base_uri": "https://localhost:8080/",
          "height": 35
        }
      },
      "source": [
        "print(data_path)"
      ],
      "execution_count": 4,
      "outputs": [
        {
          "output_type": "stream",
          "text": [
            "/root/.keras/datasets/news20.tar.gz\n"
          ],
          "name": "stdout"
        }
      ]
    },
    {
      "cell_type": "code",
      "metadata": {
        "id": "sfKNXULXboBB",
        "outputId": "660228ee-66c2-4a8a-8e2d-bc2af8bb188a",
        "colab": {
          "base_uri": "https://localhost:8080/",
          "height": 35
        }
      },
      "source": [
        "os.path.dirname(data_path)"
      ],
      "execution_count": 5,
      "outputs": [
        {
          "output_type": "execute_result",
          "data": {
            "application/vnd.google.colaboratory.intrinsic+json": {
              "type": "string"
            },
            "text/plain": [
              "'/root/.keras/datasets'"
            ]
          },
          "metadata": {
            "tags": []
          },
          "execution_count": 5
        }
      ]
    },
    {
      "cell_type": "code",
      "metadata": {
        "id": "zo33JgRyVgI-",
        "outputId": "21084d2c-f890-4edd-d646-a3164b188c59",
        "colab": {
          "base_uri": "https://localhost:8080/",
          "height": 72
        }
      },
      "source": [
        "data_dir=os.path.join(os.path.dirname(data_path),'20_newsgroup')\n",
        "dirnames=os.listdir(data_dir)\n",
        "print('Number of directories:',len(dirnames))\n",
        "print('Directory names:',dirnames)"
      ],
      "execution_count": 6,
      "outputs": [
        {
          "output_type": "stream",
          "text": [
            "Number of directories: 20\n",
            "Directory names: ['comp.os.ms-windows.misc', 'comp.sys.ibm.pc.hardware', 'comp.sys.mac.hardware', 'sci.electronics', 'misc.forsale', 'sci.med', 'talk.religion.misc', 'alt.atheism', 'sci.crypt', 'rec.autos', 'talk.politics.guns', 'comp.graphics', 'soc.religion.christian', 'rec.sport.hockey', 'comp.windows.x', 'rec.motorcycles', 'sci.space', 'rec.sport.baseball', 'talk.politics.misc', 'talk.politics.mideast']\n"
          ],
          "name": "stdout"
        }
      ]
    },
    {
      "cell_type": "code",
      "metadata": {
        "id": "QXoQQyPo8qBF",
        "outputId": "2ede14f3-77e9-4e92-e808-b46763a2150e",
        "colab": {
          "base_uri": "https://localhost:8080/",
          "height": 35
        }
      },
      "source": [
        "print(data_dir)"
      ],
      "execution_count": 7,
      "outputs": [
        {
          "output_type": "stream",
          "text": [
            "/root/.keras/datasets/20_newsgroup\n"
          ],
          "name": "stdout"
        }
      ]
    },
    {
      "cell_type": "code",
      "metadata": {
        "id": "2-_F2WpcXfDi",
        "outputId": "a1cfd7ca-40d2-4c23-cbae-41cbb9fe0c91",
        "colab": {
          "base_uri": "https://localhost:8080/",
          "height": 52
        }
      },
      "source": [
        "fnames=os.listdir(os.path.join(data_dir,'comp.graphics'))\n",
        "print('Number of files in comp.graphics:',len(fnames))\n",
        "print('Some example filenames:',fnames[:5])"
      ],
      "execution_count": 8,
      "outputs": [
        {
          "output_type": "stream",
          "text": [
            "Number of files in comp.graphics: 1000\n",
            "Some example filenames: ['38740', '38967', '38491', '39655', '38250']\n"
          ],
          "name": "stdout"
        }
      ]
    },
    {
      "cell_type": "code",
      "metadata": {
        "id": "a1E8MzceYPZl",
        "outputId": "502d08dd-0696-4282-d42e-3b1aff047564",
        "colab": {
          "base_uri": "https://localhost:8080/",
          "height": 52
        }
      },
      "source": [
        "fnames=os.listdir(os.path.join(data_dir,'talk.politics.mideast'))\n",
        "print('Number of files in talk.politics.mideast:',len(fnames))\n",
        "print('Some example filenames:',fnames[:5])"
      ],
      "execution_count": 9,
      "outputs": [
        {
          "output_type": "stream",
          "text": [
            "Number of files in talk.politics.mideast: 1000\n",
            "Some example filenames: ['75916', '77221', '76074', '75951', '76363']\n"
          ],
          "name": "stdout"
        }
      ]
    },
    {
      "cell_type": "code",
      "metadata": {
        "id": "dyq_3EHdYg69",
        "outputId": "04ffd86a-8076-4c26-c844-10b5bb4f6c44",
        "colab": {
          "base_uri": "https://localhost:8080/",
          "height": 367
        }
      },
      "source": [
        "print(open(os.path.join(data_dir,'comp.graphics','38987')).read())"
      ],
      "execution_count": 10,
      "outputs": [
        {
          "output_type": "stream",
          "text": [
            "Newsgroups: comp.graphics\n",
            "Path: cantaloupe.srv.cs.cmu.edu!das-news.harvard.edu!noc.near.net!howland.reston.ans.net!agate!dog.ee.lbl.gov!network.ucsd.edu!usc!rpi!nason110.its.rpi.edu!mabusj\n",
            "From: mabusj@nason110.its.rpi.edu (Jasen M. Mabus)\n",
            "Subject: Looking for Brain in CAD\n",
            "Message-ID: <c285m+p@rpi.edu>\n",
            "Nntp-Posting-Host: nason110.its.rpi.edu\n",
            "Reply-To: mabusj@rpi.edu\n",
            "Organization: Rensselaer Polytechnic Institute, Troy, NY.\n",
            "Date: Thu, 29 Apr 1993 23:27:20 GMT\n",
            "Lines: 7\n",
            "\n",
            "Jasen Mabus\n",
            "RPI student\n",
            "\n",
            "\tI am looking for a hman brain in any CAD (.dxf,.cad,.iges,.cgm,etc.) or picture (.gif,.jpg,.ras,etc.) format for an animation demonstration. If any has or knows of a location please reply by e-mail to mabusj@rpi.edu.\n",
            "\n",
            "Thank you in advance,\n",
            "Jasen Mabus  \n",
            "\n"
          ],
          "name": "stdout"
        }
      ]
    },
    {
      "cell_type": "code",
      "metadata": {
        "id": "dnHew1xVZN1d",
        "outputId": "51fafdf1-1d1a-44d1-dab8-0b8b64fa7394",
        "colab": {
          "base_uri": "https://localhost:8080/",
          "height": 1000
        }
      },
      "source": [
        "print(open(os.path.join(data_dir,'talk.politics.mideast','77266')).read())"
      ],
      "execution_count": 11,
      "outputs": [
        {
          "output_type": "stream",
          "text": [
            "Path: cantaloupe.srv.cs.cmu.edu!das-news.harvard.edu!noc.near.net!howland.reston.ans.net!usc!news.service.uci.edu!orion.oac.uci.edu!tclock\n",
            "From: tclock@orion.oac.uci.edu (Tim Clock)\n",
            "Subject: Re: Pease without justice cann't last Re: Last Opportunity for Peace\n",
            "Nntp-Posting-Host: orion.oac.uci.edu\n",
            "Message-ID: <2BF18745.17290@news.service.uci.edu>\n",
            "Newsgroups: talk.politics.mideast\n",
            "Organization: University of California, Irvine\n",
            "Lines: 53\n",
            "Date: 12 May 93 23:24:53 GMT\n",
            "References: <1993Apr30.083345.15696@nuscc.nus.sg> <C6xKnC.285@ulowell.ulowell.edu>\n",
            "\n",
            "In article <C6xKnC.285@ulowell.ulowell.edu> cshi@cs.ulowell.edu (Godada Shi) writes:\n",
            ">In article <1993Apr30.083345.15696@nuscc.nus.sg> eng10511@nusunix1.nus.sg (RAM VIKASH TIWARY) writes:\n",
            ">>\n",
            ">>Now that all the parties are back to the negotiating table, the stakes \n",
            ">>as I see is are indeed high and the future stability of the region and \n",
            ">>perhaps the world is in the balance.\n",
            ">>\n",
            ">>\tWhile Israel continues to refuse to talk to the PLO, labelling\n",
            ">>it a \"terrorist organisation\", the window of opportunity for peace is\n",
            ">>narrowing by the day.  If the present talks are allowed to deadlock\n",
            ">>without agreement for a long term and lasting peace that taken into\n",
            ">>account the interest of all involved, the chances of peace will indeed\n",
            ">>receed.  The PLO, by its decision to rejoin the talks, has staked its\n",
            ">>reputation on the success of the talks.  The longer the talks continue,\n",
            ">>and they started 1 and half years ago, without any tangible progress,\n",
            ">>the further will the PLO support in the territories erode.\n",
            ">>\n",
            ">>If a land for peace agreement can be reached, and real soon, the chances\n",
            ">>of a comprehensive peace treaty is good.  The Arabs, once and for all,\n",
            ">>recognise Israel's right to exist inside secure borders, and Isreal\n",
            ">>would in turn recognise the legitimate right of the Palestinians to self\n",
            ">>deternimation and statehood.  With peace guarantee by air tight\n",
            ">>treaties, the region can then hope to dwell on the economic and social\n",
            ">>well being of its population, rather than prepare for the next war.\n",
            ">>\n",
            ">>Ram Vikash Tiwary                      \n",
            ">\n",
            "As we see right now, the position of influence enjoyed by parties favoring\n",
            "the negotiation process is tenuous at best. The local \"elections\" in Hebron\n",
            "that the PLO was expected to win (perhaps adding a bit to its flagging\n",
            "position of \"legitimacy\" in the eyes of Palestinians and the Middle East)\n",
            "have been disrupted by Hamas actions overtly directed towards\n",
            "undermining those (and all West Bank) elections. The present ruling Israeli \n",
            "Labor coalition seems to be one rather thin political ice. The Palestinian\n",
            "delegation has been reduced from 14 to three to protest Israel \"lack of\n",
            "seriousness\" in the talks and refusal to reverse all the deportations\n",
            "immediately.\n",
            "\n",
            "Hopefully, however, each of the parties will begin to learn that just\n",
            "the fact that negotiations are taking place *does not mean* they are giving \n",
            "anything away to \"the other side\" (which was/is the favorite argument of \n",
            "the \"rejectionists\"). Let's hope that discusion and inevitable disagreement\n",
            "on major issues leads at the same time to some agreement on smaller\n",
            "\"interim\" (\"phase\", whatever term we prefer) steps to be taken.  \n",
            "\n",
            "\n",
            "\n",
            "\n",
            "--\n",
            "Tim Clock                                   Ph.D./Graduate student\n",
            "UCI  tel#: 714,8565361                      Department of Politics and Society\n",
            "     fax#: 714,8568441                      University of California - Irvine\n",
            "Home tel#: 714,8563446                      Irvine, CA 92717\n",
            "\n"
          ],
          "name": "stdout"
        }
      ]
    },
    {
      "cell_type": "code",
      "metadata": {
        "id": "0VKFU23Cbbrl",
        "outputId": "5819ba24-b617-4369-e5af-0d0ce431082a",
        "colab": {
          "base_uri": "https://localhost:8080/",
          "height": 419
        }
      },
      "source": [
        "samples=[]\n",
        "labels=[]\n",
        "class_names=[]\n",
        "class_index=0\n",
        "for dirname in sorted(os.listdir(data_dir)):\n",
        "  class_names.append(dirname)\n",
        "  dirpath=os.path.join(data_dir,dirname)\n",
        "  fnames=os.listdir(dirpath)\n",
        "  print('Processing %s,%d files found'.format(dirname,len(fnames)))\n",
        "  for fname in fnames:\n",
        "    fpath=os.path.join(dirpath,fname)\n",
        "    f=open(fpath,encoding='latin-1')\n",
        "    content=f.read()\n",
        "    lines=content.split('\\n')\n",
        "    lines=lines[10:]\n",
        "    content='\\n'.join(lines)\n",
        "    samples.append(content)\n",
        "    labels.append(class_index)\n",
        "  class_index+=1\n",
        "\n",
        "print('Classes:',class_names)\n",
        "print('Number of samples:',len(samples))    \n"
      ],
      "execution_count": 12,
      "outputs": [
        {
          "output_type": "stream",
          "text": [
            "Processing %s,%d files found\n",
            "Processing %s,%d files found\n",
            "Processing %s,%d files found\n",
            "Processing %s,%d files found\n",
            "Processing %s,%d files found\n",
            "Processing %s,%d files found\n",
            "Processing %s,%d files found\n",
            "Processing %s,%d files found\n",
            "Processing %s,%d files found\n",
            "Processing %s,%d files found\n",
            "Processing %s,%d files found\n",
            "Processing %s,%d files found\n",
            "Processing %s,%d files found\n",
            "Processing %s,%d files found\n",
            "Processing %s,%d files found\n",
            "Processing %s,%d files found\n",
            "Processing %s,%d files found\n",
            "Processing %s,%d files found\n",
            "Processing %s,%d files found\n",
            "Processing %s,%d files found\n",
            "Classes: ['alt.atheism', 'comp.graphics', 'comp.os.ms-windows.misc', 'comp.sys.ibm.pc.hardware', 'comp.sys.mac.hardware', 'comp.windows.x', 'misc.forsale', 'rec.autos', 'rec.motorcycles', 'rec.sport.baseball', 'rec.sport.hockey', 'sci.crypt', 'sci.electronics', 'sci.med', 'sci.space', 'soc.religion.christian', 'talk.politics.guns', 'talk.politics.mideast', 'talk.politics.misc', 'talk.religion.misc']\n",
            "Number of samples: 19997\n"
          ],
          "name": "stdout"
        }
      ]
    },
    {
      "cell_type": "code",
      "metadata": {
        "id": "0YitD29dej57",
        "outputId": "b7c4e41b-9c05-4290-d4b0-5ee4b2b972e0",
        "colab": {
          "base_uri": "https://localhost:8080/",
          "height": 70
        }
      },
      "source": [
        "samples[1000]"
      ],
      "execution_count": 13,
      "outputs": [
        {
          "output_type": "execute_result",
          "data": {
            "application/vnd.google.colaboratory.intrinsic+json": {
              "type": "string"
            },
            "text/plain": [
              "'\\nIf you want to have Soft-Scrolling on your VGA, you have to change some \\nintern registers of the CRTC. But it is a little bit difficult to explain, \\nso I would suggest, you take a look at \"The Programming of the \\nEGA/VGA-Adapter\" by Addison-Wesley. You will find all useful descriptions \\nfor every available VGA-Register.\\n\\n-Boris\\n\\n---\\ndr_bobo@ponton.hanse.de                 ---> Boris Pruessmann\\n'"
            ]
          },
          "metadata": {
            "tags": []
          },
          "execution_count": 13
        }
      ]
    },
    {
      "cell_type": "code",
      "metadata": {
        "id": "VrL7zA0TfqeX",
        "outputId": "3e3744fe-9277-4801-924d-80f59d5c8de2",
        "colab": {
          "base_uri": "https://localhost:8080/",
          "height": 225
        }
      },
      "source": [
        "samples[1000].split('\\n')"
      ],
      "execution_count": 14,
      "outputs": [
        {
          "output_type": "execute_result",
          "data": {
            "text/plain": [
              "['',\n",
              " 'If you want to have Soft-Scrolling on your VGA, you have to change some ',\n",
              " 'intern registers of the CRTC. But it is a little bit difficult to explain, ',\n",
              " 'so I would suggest, you take a look at \"The Programming of the ',\n",
              " 'EGA/VGA-Adapter\" by Addison-Wesley. You will find all useful descriptions ',\n",
              " 'for every available VGA-Register.',\n",
              " '',\n",
              " '-Boris',\n",
              " '',\n",
              " '---',\n",
              " 'dr_bobo@ponton.hanse.de                 ---> Boris Pruessmann',\n",
              " '']"
            ]
          },
          "metadata": {
            "tags": []
          },
          "execution_count": 14
        }
      ]
    },
    {
      "cell_type": "code",
      "metadata": {
        "id": "nVt33epZwybd",
        "outputId": "57cb8c14-6ab3-43ed-f7e8-6167fb20c521",
        "colab": {
          "base_uri": "https://localhost:8080/",
          "height": 35
        }
      },
      "source": [
        "labels[-10:]"
      ],
      "execution_count": 15,
      "outputs": [
        {
          "output_type": "execute_result",
          "data": {
            "text/plain": [
              "[19, 19, 19, 19, 19, 19, 19, 19, 19, 19]"
            ]
          },
          "metadata": {
            "tags": []
          },
          "execution_count": 15
        }
      ]
    },
    {
      "cell_type": "code",
      "metadata": {
        "id": "Sxjl4OFxvwBu"
      },
      "source": [
        "from sklearn.model_selection import train_test_split\n",
        "train_samples,val_samples,train_label,val_label=train_test_split(\n",
        "    samples,labels,test_size=0.2)"
      ],
      "execution_count": 16,
      "outputs": []
    },
    {
      "cell_type": "code",
      "metadata": {
        "id": "JSgFhZrQYpPy"
      },
      "source": [
        "train_samples[2232]"
      ],
      "execution_count": null,
      "outputs": []
    },
    {
      "cell_type": "code",
      "metadata": {
        "id": "tPuC21JoaDdc"
      },
      "source": [
        "val_samples[1332]"
      ],
      "execution_count": null,
      "outputs": []
    },
    {
      "cell_type": "code",
      "metadata": {
        "id": "P0L4BaiGpOIo"
      },
      "source": [
        "tokenizer=tf.keras.preprocessing.text.Tokenizer(filters='')\n",
        "tokenizer.fit_on_texts(train_samples)\n",
        "x_train=tokenizer.texts_to_sequences(train_samples)\n",
        "x_train=tf.keras.preprocessing.sequence.pad_sequences(x_train,256,padding='post')"
      ],
      "execution_count": 28,
      "outputs": []
    },
    {
      "cell_type": "code",
      "metadata": {
        "id": "Z9luw6ScqIin"
      },
      "source": [
        "y_train=tf.constant(train_label)\n",
        "train_dataset=tf.data.Dataset.from_tensor_slices((x_train,y_train))"
      ],
      "execution_count": 32,
      "outputs": []
    },
    {
      "cell_type": "code",
      "metadata": {
        "id": "kY7hsyaCrCrT"
      },
      "source": [
        "BUFFER_SIZE=10000\n",
        "train_dataset=train_dataset.shuffle(BUFFER_SIZE).batch(128,drop_remainder=True)"
      ],
      "execution_count": 33,
      "outputs": []
    },
    {
      "cell_type": "code",
      "metadata": {
        "id": "i18KSfDKrUqn",
        "outputId": "5c1b0263-0c18-493a-a9ae-0668e38d7809",
        "colab": {
          "base_uri": "https://localhost:8080/",
          "height": 312
        }
      },
      "source": [
        "next(iter(train_dataset))"
      ],
      "execution_count": 34,
      "outputs": [
        {
          "output_type": "execute_result",
          "data": {
            "text/plain": [
              "(<tf.Tensor: shape=(128, 256), dtype=int32, numpy=\n",
              " array([[307901,   2721,   1539, ...,      0,      0,      0],\n",
              "        [    12,     39,     19, ..., 100876,    149, 100877],\n",
              "        [   159,     40, 243053, ...,      0,      0,      0],\n",
              "        ...,\n",
              "        [  1365,  17387,   9915, ...,      0,      0,      0],\n",
              "        [   109, 195276, 195277, ...,      0,      0,      0],\n",
              "        [307798,     32,     17, ...,  10117,   5022,  10874]], dtype=int32)>,\n",
              " <tf.Tensor: shape=(128,), dtype=int32, numpy=\n",
              " array([ 6, 18,  0,  9, 17, 14, 13,  0,  1,  5, 18,  8, 10, 11, 19,  8,  2,\n",
              "        13, 19, 14,  6, 11,  4,  4,  2,  9,  0, 19, 10, 19,  1, 11,  6,  5,\n",
              "        11,  3,  1,  0, 19, 12, 11, 11, 14, 18,  0,  7,  9,  2, 17,  8, 17,\n",
              "         7,  7, 10, 12,  3,  6,  3,  3,  6,  9,  9, 12, 10,  3,  1,  3,  0,\n",
              "        19,  8,  7,  6, 18, 15,  9,  1, 16,  3, 15, 10,  1, 18,  3,  1,  2,\n",
              "         6, 19, 10, 10,  9, 19,  4,  2, 17,  9,  5, 14,  2,  3, 14,  9,  4,\n",
              "         4,  4,  6,  2,  5, 11,  3, 10,  8, 19, 16,  7, 15, 18, 16,  2, 14,\n",
              "        13, 19,  1,  5, 12,  4,  6,  6, 17], dtype=int32)>)"
            ]
          },
          "metadata": {
            "tags": []
          },
          "execution_count": 34
        }
      ]
    },
    {
      "cell_type": "code",
      "metadata": {
        "id": "LnDE0yJMsnae"
      },
      "source": [
        "x_val=tokenizer.texts_to_sequences(val_samples)\n",
        "x_val=tf.keras.preprocessing.sequence.pad_sequences(x_val,256,padding='post')\n",
        "\n",
        "y_val=tf.constant(val_label)\n",
        "validation_dataset=tf.data.Dataset.from_tensor_slices((x_val,y_val))\n",
        "validation_dataset=validation_dataset.batch(128,drop_remainder=True)"
      ],
      "execution_count": 40,
      "outputs": []
    },
    {
      "cell_type": "code",
      "metadata": {
        "id": "Jkb3FVG1r6Mg"
      },
      "source": [
        "#dictionary of word index\n",
        "word_index=tokenizer.word_index"
      ],
      "execution_count": 36,
      "outputs": []
    },
    {
      "cell_type": "code",
      "metadata": {
        "id": "NnsB67yksEm1",
        "outputId": "1c417381-6949-4743-c44a-f5da3fbaabba",
        "colab": {
          "base_uri": "https://localhost:8080/",
          "height": 35
        }
      },
      "source": [
        "len(word_index)"
      ],
      "execution_count": 37,
      "outputs": [
        {
          "output_type": "execute_result",
          "data": {
            "text/plain": [
              "483677"
            ]
          },
          "metadata": {
            "tags": []
          },
          "execution_count": 37
        }
      ]
    },
    {
      "cell_type": "code",
      "metadata": {
        "id": "_HVi1cZvqFnK",
        "outputId": "af0202a5-090c-4ef7-b630-77fb15b3c4dd",
        "colab": {
          "base_uri": "https://localhost:8080/",
          "height": 35
        }
      },
      "source": [
        "x_train.shape"
      ],
      "execution_count": 29,
      "outputs": [
        {
          "output_type": "execute_result",
          "data": {
            "text/plain": [
              "(15997, 256)"
            ]
          },
          "metadata": {
            "tags": []
          },
          "execution_count": 29
        }
      ]
    },
    {
      "cell_type": "code",
      "metadata": {
        "id": "q9CBjME_zYTv",
        "outputId": "5d3fba43-bc0f-4acb-950b-d8e1534316ab",
        "colab": {
          "base_uri": "https://localhost:8080/",
          "height": 35
        }
      },
      "source": [
        "test=[\"the\", \"cat\", \"sat\", \"on\", \"the\", \"mat\"]\n",
        "[word_index[w] for w in test]"
      ],
      "execution_count": 38,
      "outputs": [
        {
          "output_type": "execute_result",
          "data": {
            "text/plain": [
              "[1, 4216, 4684, 14, 1, 10357]"
            ]
          },
          "metadata": {
            "tags": []
          },
          "execution_count": 38
        }
      ]
    },
    {
      "cell_type": "code",
      "metadata": {
        "id": "x6HdIUe8zi3Q",
        "outputId": "142050ed-d7d6-4979-e428-7235b7b91304",
        "colab": {
          "base_uri": "https://localhost:8080/",
          "height": 384
        }
      },
      "source": [
        "!wget http://nlp.stanford.edu/data/glove.6B.zip\n",
        "!unzip -q glove.6B.zip"
      ],
      "execution_count": 39,
      "outputs": [
        {
          "output_type": "stream",
          "text": [
            "--2020-10-08 10:10:37--  http://nlp.stanford.edu/data/glove.6B.zip\n",
            "Resolving nlp.stanford.edu (nlp.stanford.edu)... 171.64.67.140\n",
            "Connecting to nlp.stanford.edu (nlp.stanford.edu)|171.64.67.140|:80... connected.\n",
            "HTTP request sent, awaiting response... 302 Found\n",
            "Location: https://nlp.stanford.edu/data/glove.6B.zip [following]\n",
            "--2020-10-08 10:10:38--  https://nlp.stanford.edu/data/glove.6B.zip\n",
            "Connecting to nlp.stanford.edu (nlp.stanford.edu)|171.64.67.140|:443... connected.\n",
            "HTTP request sent, awaiting response... 301 Moved Permanently\n",
            "Location: http://downloads.cs.stanford.edu/nlp/data/glove.6B.zip [following]\n",
            "--2020-10-08 10:10:38--  http://downloads.cs.stanford.edu/nlp/data/glove.6B.zip\n",
            "Resolving downloads.cs.stanford.edu (downloads.cs.stanford.edu)... 171.64.64.22\n",
            "Connecting to downloads.cs.stanford.edu (downloads.cs.stanford.edu)|171.64.64.22|:80... connected.\n",
            "HTTP request sent, awaiting response... 200 OK\n",
            "Length: 862182613 (822M) [application/zip]\n",
            "Saving to: ‘glove.6B.zip’\n",
            "\n",
            "glove.6B.zip        100%[===================>] 822.24M  1.82MB/s    in 6m 28s  \n",
            "\n",
            "2020-10-08 10:17:06 (2.12 MB/s) - ‘glove.6B.zip’ saved [862182613/862182613]\n",
            "\n"
          ],
          "name": "stdout"
        }
      ]
    },
    {
      "cell_type": "code",
      "metadata": {
        "id": "EFB4z1Um7oH4",
        "outputId": "8c10bfee-6ea3-4c7c-d6d1-17045d021005",
        "colab": {
          "base_uri": "https://localhost:8080/",
          "height": 141
        }
      },
      "source": [
        "with open('glove.6B.100d.txt','r') as f:\n",
        "  content1=f.readline()\n",
        "  print(content1)\n",
        "  content2=f.readline()\n",
        "  print(content2)\n",
        "  content3=f.readline()\n",
        "  print(content3)"
      ],
      "execution_count": 41,
      "outputs": [
        {
          "output_type": "stream",
          "text": [
            "the -0.038194 -0.24487 0.72812 -0.39961 0.083172 0.043953 -0.39141 0.3344 -0.57545 0.087459 0.28787 -0.06731 0.30906 -0.26384 -0.13231 -0.20757 0.33395 -0.33848 -0.31743 -0.48336 0.1464 -0.37304 0.34577 0.052041 0.44946 -0.46971 0.02628 -0.54155 -0.15518 -0.14107 -0.039722 0.28277 0.14393 0.23464 -0.31021 0.086173 0.20397 0.52624 0.17164 -0.082378 -0.71787 -0.41531 0.20335 -0.12763 0.41367 0.55187 0.57908 -0.33477 -0.36559 -0.54857 -0.062892 0.26584 0.30205 0.99775 -0.80481 -3.0243 0.01254 -0.36942 2.2167 0.72201 -0.24978 0.92136 0.034514 0.46745 1.1079 -0.19358 -0.074575 0.23353 -0.052062 -0.22044 0.057162 -0.15806 -0.30798 -0.41625 0.37972 0.15006 -0.53212 -0.2055 -1.2526 0.071624 0.70565 0.49744 -0.42063 0.26148 -1.538 -0.30223 -0.073438 -0.28312 0.37104 -0.25217 0.016215 -0.017099 -0.38984 0.87424 -0.72569 -0.51058 -0.52028 -0.1459 0.8278 0.27062\n",
            "\n",
            ", -0.10767 0.11053 0.59812 -0.54361 0.67396 0.10663 0.038867 0.35481 0.06351 -0.094189 0.15786 -0.81665 0.14172 0.21939 0.58505 -0.52158 0.22783 -0.16642 -0.68228 0.3587 0.42568 0.19021 0.91963 0.57555 0.46185 0.42363 -0.095399 -0.42749 -0.16567 -0.056842 -0.29595 0.26037 -0.26606 -0.070404 -0.27662 0.15821 0.69825 0.43081 0.27952 -0.45437 -0.33801 -0.58184 0.22364 -0.5778 -0.26862 -0.20425 0.56394 -0.58524 -0.14365 -0.64218 0.0054697 -0.35248 0.16162 1.1796 -0.47674 -2.7553 -0.1321 -0.047729 1.0655 1.1034 -0.2208 0.18669 0.13177 0.15117 0.7131 -0.35215 0.91348 0.61783 0.70992 0.23955 -0.14571 -0.37859 -0.045959 -0.47368 0.2385 0.20536 -0.18996 0.32507 -1.1112 -0.36341 0.98679 -0.084776 -0.54008 0.11726 -1.0194 -0.24424 0.12771 0.013884 0.080374 -0.35414 0.34951 -0.7226 0.37549 0.4441 -0.99059 0.61214 -0.35111 -0.83155 0.45293 0.082577\n",
            "\n",
            ". -0.33979 0.20941 0.46348 -0.64792 -0.38377 0.038034 0.17127 0.15978 0.46619 -0.019169 0.41479 -0.34349 0.26872 0.04464 0.42131 -0.41032 0.15459 0.022239 -0.64653 0.25256 0.043136 -0.19445 0.46516 0.45651 0.68588 0.091295 0.21875 -0.70351 0.16785 -0.35079 -0.12634 0.66384 -0.2582 0.036542 -0.13605 0.40253 0.14289 0.38132 -0.12283 -0.45886 -0.25282 -0.30432 -0.11215 -0.26182 -0.22482 -0.44554 0.2991 -0.85612 -0.14503 -0.49086 0.0082973 -0.17491 0.27524 1.4401 -0.21239 -2.8435 -0.27958 -0.45722 1.6386 0.78808 -0.55262 0.65 0.086426 0.39012 1.0632 -0.35379 0.48328 0.346 0.84174 0.098707 -0.24213 -0.27053 0.045287 -0.40147 0.11395 0.0062226 0.036673 0.018518 -1.0213 -0.20806 0.64072 -0.068763 -0.58635 0.33476 -1.1432 -0.1148 -0.25091 -0.45907 -0.096819 -0.17946 -0.063351 -0.67412 -0.068895 0.53604 -0.87773 0.31802 -0.39242 -0.23394 0.47298 -0.028803\n",
            "\n"
          ],
          "name": "stdout"
        }
      ]
    },
    {
      "cell_type": "code",
      "metadata": {
        "id": "K6zTE6QKLJdq",
        "outputId": "2d03dc14-22dd-4d61-d48f-7ac3833da00b",
        "colab": {
          "base_uri": "https://localhost:8080/",
          "height": 35
        }
      },
      "source": [
        "embeddings_index={}\n",
        "with open('glove.6B.100d.txt') as f:\n",
        "    for line in f:\n",
        "        word,coefs=line.split(maxsplit=1)\n",
        "        coefs=np.fromstring(coefs, \"f\", sep=\" \")\n",
        "        embeddings_index[word]=coefs\n",
        "\n",
        "print(\"Found %s word vectors.\" % len(embeddings_index))"
      ],
      "execution_count": 42,
      "outputs": [
        {
          "output_type": "stream",
          "text": [
            "Found 400000 word vectors.\n"
          ],
          "name": "stdout"
        }
      ]
    },
    {
      "cell_type": "code",
      "metadata": {
        "id": "m6IL5TYFHERS",
        "outputId": "986a6a71-7869-4197-aa1f-f7ddea09158d",
        "colab": {
          "base_uri": "https://localhost:8080/",
          "height": 312
        }
      },
      "source": [
        "embeddings_index['the']"
      ],
      "execution_count": 43,
      "outputs": [
        {
          "output_type": "execute_result",
          "data": {
            "text/plain": [
              "array([-0.038194, -0.24487 ,  0.72812 , -0.39961 ,  0.083172,  0.043953,\n",
              "       -0.39141 ,  0.3344  , -0.57545 ,  0.087459,  0.28787 , -0.06731 ,\n",
              "        0.30906 , -0.26384 , -0.13231 , -0.20757 ,  0.33395 , -0.33848 ,\n",
              "       -0.31743 , -0.48336 ,  0.1464  , -0.37304 ,  0.34577 ,  0.052041,\n",
              "        0.44946 , -0.46971 ,  0.02628 , -0.54155 , -0.15518 , -0.14107 ,\n",
              "       -0.039722,  0.28277 ,  0.14393 ,  0.23464 , -0.31021 ,  0.086173,\n",
              "        0.20397 ,  0.52624 ,  0.17164 , -0.082378, -0.71787 , -0.41531 ,\n",
              "        0.20335 , -0.12763 ,  0.41367 ,  0.55187 ,  0.57908 , -0.33477 ,\n",
              "       -0.36559 , -0.54857 , -0.062892,  0.26584 ,  0.30205 ,  0.99775 ,\n",
              "       -0.80481 , -3.0243  ,  0.01254 , -0.36942 ,  2.2167  ,  0.72201 ,\n",
              "       -0.24978 ,  0.92136 ,  0.034514,  0.46745 ,  1.1079  , -0.19358 ,\n",
              "       -0.074575,  0.23353 , -0.052062, -0.22044 ,  0.057162, -0.15806 ,\n",
              "       -0.30798 , -0.41625 ,  0.37972 ,  0.15006 , -0.53212 , -0.2055  ,\n",
              "       -1.2526  ,  0.071624,  0.70565 ,  0.49744 , -0.42063 ,  0.26148 ,\n",
              "       -1.538   , -0.30223 , -0.073438, -0.28312 ,  0.37104 , -0.25217 ,\n",
              "        0.016215, -0.017099, -0.38984 ,  0.87424 , -0.72569 , -0.51058 ,\n",
              "       -0.52028 , -0.1459  ,  0.8278  ,  0.27062 ], dtype=float32)"
            ]
          },
          "metadata": {
            "tags": []
          },
          "execution_count": 43
        }
      ]
    },
    {
      "cell_type": "code",
      "metadata": {
        "id": "UUisPcVqHPxQ",
        "outputId": "4ea42d80-85cc-41fa-fbd7-22de334f52f2",
        "colab": {
          "base_uri": "https://localhost:8080/",
          "height": 35
        }
      },
      "source": [
        "np.fromstring('1.2 2.3','f', sep=' ')"
      ],
      "execution_count": 44,
      "outputs": [
        {
          "output_type": "execute_result",
          "data": {
            "text/plain": [
              "array([1.2, 2.3], dtype=float32)"
            ]
          },
          "metadata": {
            "tags": []
          },
          "execution_count": 44
        }
      ]
    },
    {
      "cell_type": "code",
      "metadata": {
        "id": "7HwXqqZaNW-P",
        "outputId": "33903e13-9541-4e52-bcb7-5ddcece32cee",
        "colab": {
          "base_uri": "https://localhost:8080/",
          "height": 35
        }
      },
      "source": [
        "print(embeddings_index.get('dbz'))"
      ],
      "execution_count": 45,
      "outputs": [
        {
          "output_type": "stream",
          "text": [
            "None\n"
          ],
          "name": "stdout"
        }
      ]
    },
    {
      "cell_type": "code",
      "metadata": {
        "id": "Bk0NaiPSIYCv",
        "outputId": "bb5f2285-3588-40f7-a6de-6c20b55e9c45",
        "colab": {
          "base_uri": "https://localhost:8080/",
          "height": 35
        }
      },
      "source": [
        "num_tokens=len(word_index)+2\n",
        "embedding_dim=100\n",
        "hits=0\n",
        "misses=0\n",
        "\n",
        "embedding_matrix=np.zeros((num_tokens,embedding_dim))\n",
        "for word,i in word_index.items():\n",
        "  embedding_vector=embeddings_index.get(word)\n",
        "  if embedding_vector is not None:\n",
        "    embedding_matrix[i]=embedding_vector\n",
        "    hits+=1\n",
        "  else:\n",
        "    misses+=1\n",
        "\n",
        "print('Converted %d words (%d misses)' %(hits,misses))  "
      ],
      "execution_count": 47,
      "outputs": [
        {
          "output_type": "stream",
          "text": [
            "Converted 49791 words (433886 misses)\n"
          ],
          "name": "stdout"
        }
      ]
    },
    {
      "cell_type": "code",
      "metadata": {
        "id": "wvXEZgYDOWf_",
        "outputId": "1303470f-2bab-426e-c5be-e382f993fd32",
        "colab": {
          "base_uri": "https://localhost:8080/",
          "height": 35
        }
      },
      "source": [
        "embedding_matrix.shape"
      ],
      "execution_count": 48,
      "outputs": [
        {
          "output_type": "execute_result",
          "data": {
            "text/plain": [
              "(483679, 100)"
            ]
          },
          "metadata": {
            "tags": []
          },
          "execution_count": 48
        }
      ]
    },
    {
      "cell_type": "code",
      "metadata": {
        "id": "5fJe3fv1VXVH",
        "outputId": "e9625ec1-f44c-4d15-a660-ef66a570e188",
        "colab": {
          "base_uri": "https://localhost:8080/"
        }
      },
      "source": [
        "len(val_samples),len(val_label)"
      ],
      "execution_count": null,
      "outputs": [
        {
          "output_type": "execute_result",
          "data": {
            "text/plain": [
              "(4000, 4000)"
            ]
          },
          "metadata": {
            "tags": []
          },
          "execution_count": 60
        }
      ]
    },
    {
      "cell_type": "code",
      "metadata": {
        "id": "MGVj8w-6OdtI"
      },
      "source": [
        "embedding_layer=tf.keras.layers.Embedding(num_tokens,embedding_dim,\n",
        "                                          embeddings_initializer=tf.keras.initializers.Constant(embedding_matrix),\n",
        "                                          trainable=False,)                                        "
      ],
      "execution_count": 50,
      "outputs": []
    },
    {
      "cell_type": "code",
      "metadata": {
        "id": "i3DthZeoPQE-"
      },
      "source": [
        "model=tf.keras.Sequential([                      \n",
        "    embedding_layer,\n",
        "    tf.keras.layers.Conv1D(128,5,activation='relu'),\n",
        "    tf.keras.layers.MaxPooling1D(5),\n",
        "    tf.keras.layers.Conv1D(128,5,activation='relu'),\n",
        "    tf.keras.layers.MaxPooling1D(5),\n",
        "    tf.keras.layers.Conv1D(128,5,activation='relu'),\n",
        "    tf.keras.layers.MaxPooling1D(5),\n",
        "    tf.keras.layers.Dense(128,activation='relu'),\n",
        "    tf.keras.layers.Dropout(0.5),\n",
        "    tf.keras.layers.Dense(len(class_names),activation='softmax')])"
      ],
      "execution_count": 51,
      "outputs": []
    },
    {
      "cell_type": "code",
      "metadata": {
        "id": "PjMewIwLRQ7-",
        "outputId": "93a2ba53-c756-4f0f-ce58-b6d6491bf9be",
        "colab": {
          "base_uri": "https://localhost:8080/",
          "height": 503
        }
      },
      "source": [
        "model.summary()"
      ],
      "execution_count": 52,
      "outputs": [
        {
          "output_type": "stream",
          "text": [
            "Model: \"sequential\"\n",
            "_________________________________________________________________\n",
            "Layer (type)                 Output Shape              Param #   \n",
            "=================================================================\n",
            "embedding (Embedding)        (None, None, 100)         48367900  \n",
            "_________________________________________________________________\n",
            "conv1d (Conv1D)              (None, None, 128)         64128     \n",
            "_________________________________________________________________\n",
            "max_pooling1d (MaxPooling1D) (None, None, 128)         0         \n",
            "_________________________________________________________________\n",
            "conv1d_1 (Conv1D)            (None, None, 128)         82048     \n",
            "_________________________________________________________________\n",
            "max_pooling1d_1 (MaxPooling1 (None, None, 128)         0         \n",
            "_________________________________________________________________\n",
            "conv1d_2 (Conv1D)            (None, None, 128)         82048     \n",
            "_________________________________________________________________\n",
            "max_pooling1d_2 (MaxPooling1 (None, None, 128)         0         \n",
            "_________________________________________________________________\n",
            "dense (Dense)                (None, None, 128)         16512     \n",
            "_________________________________________________________________\n",
            "dropout (Dropout)            (None, None, 128)         0         \n",
            "_________________________________________________________________\n",
            "dense_1 (Dense)              (None, None, 20)          2580      \n",
            "=================================================================\n",
            "Total params: 48,615,216\n",
            "Trainable params: 247,316\n",
            "Non-trainable params: 48,367,900\n",
            "_________________________________________________________________\n"
          ],
          "name": "stdout"
        }
      ]
    },
    {
      "cell_type": "code",
      "metadata": {
        "id": "0Ner25Z4lqjX",
        "outputId": "3bce3188-73ff-46ae-c50f-870b38282b50",
        "colab": {
          "base_uri": "https://localhost:8080/",
          "height": 728
        }
      },
      "source": [
        "model.compile(\n",
        "    loss=\"sparse_categorical_crossentropy\", optimizer=\"rmsprop\", metrics=[\"acc\"])\n",
        "\n",
        "model.fit(train_dataset, batch_size=128, epochs=20, validation_data=validation_dataset)"
      ],
      "execution_count": 53,
      "outputs": [
        {
          "output_type": "stream",
          "text": [
            "Epoch 1/20\n",
            "124/124 [==============================] - 37s 298ms/step - loss: 2.7695 - acc: 0.1195 - val_loss: 2.3628 - val_acc: 0.1852\n",
            "Epoch 2/20\n",
            "124/124 [==============================] - 37s 299ms/step - loss: 2.0879 - acc: 0.2872 - val_loss: 1.7190 - val_acc: 0.4103\n",
            "Epoch 3/20\n",
            "124/124 [==============================] - 38s 306ms/step - loss: 1.6526 - acc: 0.4267 - val_loss: 1.3624 - val_acc: 0.5255\n",
            "Epoch 4/20\n",
            "124/124 [==============================] - 37s 297ms/step - loss: 1.4056 - acc: 0.5185 - val_loss: 1.3898 - val_acc: 0.5199\n",
            "Epoch 5/20\n",
            "124/124 [==============================] - 37s 296ms/step - loss: 1.2586 - acc: 0.5660 - val_loss: 1.2040 - val_acc: 0.5917\n",
            "Epoch 6/20\n",
            "124/124 [==============================] - 37s 297ms/step - loss: 1.1267 - acc: 0.6169 - val_loss: 1.1717 - val_acc: 0.6038\n",
            "Epoch 7/20\n",
            "124/124 [==============================] - 36s 294ms/step - loss: 1.0223 - acc: 0.6541 - val_loss: 1.1554 - val_acc: 0.6240\n",
            "Epoch 8/20\n",
            "124/124 [==============================] - 36s 293ms/step - loss: 0.9153 - acc: 0.6784 - val_loss: 1.2263 - val_acc: 0.6061\n",
            "Epoch 9/20\n",
            "124/124 [==============================] - 36s 293ms/step - loss: 0.8464 - acc: 0.7080 - val_loss: 1.2212 - val_acc: 0.6159\n",
            "Epoch 10/20\n",
            "124/124 [==============================] - 37s 295ms/step - loss: 0.7479 - acc: 0.7383 - val_loss: 1.1768 - val_acc: 0.6336\n",
            "Epoch 11/20\n",
            "124/124 [==============================] - 38s 306ms/step - loss: 0.6818 - acc: 0.7583 - val_loss: 1.1478 - val_acc: 0.6542\n",
            "Epoch 12/20\n",
            "124/124 [==============================] - 37s 297ms/step - loss: 0.6119 - acc: 0.7830 - val_loss: 1.2333 - val_acc: 0.6379\n",
            "Epoch 13/20\n",
            "124/124 [==============================] - 37s 296ms/step - loss: 0.5474 - acc: 0.8081 - val_loss: 1.2692 - val_acc: 0.6273\n",
            "Epoch 14/20\n",
            "124/124 [==============================] - 37s 299ms/step - loss: 0.4852 - acc: 0.8328 - val_loss: 1.2947 - val_acc: 0.6520\n",
            "Epoch 15/20\n",
            "124/124 [==============================] - 37s 301ms/step - loss: 0.4362 - acc: 0.8441 - val_loss: 1.2832 - val_acc: 0.6689\n",
            "Epoch 16/20\n",
            "124/124 [==============================] - 37s 301ms/step - loss: 0.3886 - acc: 0.8653 - val_loss: 1.4832 - val_acc: 0.6149\n",
            "Epoch 17/20\n",
            "124/124 [==============================] - 37s 301ms/step - loss: 0.3576 - acc: 0.8785 - val_loss: 1.5370 - val_acc: 0.6270\n",
            "Epoch 18/20\n",
            "124/124 [==============================] - 38s 306ms/step - loss: 0.3310 - acc: 0.8880 - val_loss: 1.4207 - val_acc: 0.6613\n",
            "Epoch 19/20\n",
            "124/124 [==============================] - 38s 304ms/step - loss: 0.2952 - acc: 0.9047 - val_loss: 1.4514 - val_acc: 0.6562\n",
            "Epoch 20/20\n",
            "124/124 [==============================] - 37s 298ms/step - loss: 0.2818 - acc: 0.9079 - val_loss: 1.4970 - val_acc: 0.6527\n"
          ],
          "name": "stdout"
        },
        {
          "output_type": "execute_result",
          "data": {
            "text/plain": [
              "<tensorflow.python.keras.callbacks.History at 0x7f10d48cbcf8>"
            ]
          },
          "metadata": {
            "tags": []
          },
          "execution_count": 53
        }
      ]
    },
    {
      "cell_type": "code",
      "metadata": {
        "id": "P8tsWHLyuly4"
      },
      "source": [
        ""
      ],
      "execution_count": null,
      "outputs": []
    }
  ]
}