{
  "nbformat": 4,
  "nbformat_minor": 0,
  "metadata": {
    "colab": {
      "name": "Universal Sentence encoder.ipynb",
      "provenance": [],
      "collapsed_sections": []
    },
    "kernelspec": {
      "name": "python3",
      "display_name": "Python 3"
    }
  },
  "cells": [
    {
      "cell_type": "code",
      "metadata": {
        "id": "t4i2sZVvfYDr"
      },
      "source": [
        "import tensorflow as tf\n",
        "import tensorflow_hub as hub\n",
        "\n",
        "from absl import logging\n",
        "import matplotlib.pyplot as plt\n",
        "import numpy as np\n",
        "import pandas as pd\n",
        "import os\n",
        "import re\n",
        "import seaborn as sns"
      ],
      "execution_count": null,
      "outputs": []
    },
    {
      "cell_type": "code",
      "metadata": {
        "id": "nyR_J95ctBB0",
        "outputId": "fed639ff-f426-4d6d-ff3d-c8a4c6f7ed4d",
        "colab": {
          "base_uri": "https://localhost:8080/",
          "height": 124
        }
      },
      "source": [
        "module_url='https://tfhub.dev/google/universal-sentence-encoder/4'\n",
        "model=hub.load(module_url)\n",
        "print('module %s loaded' % module_url)"
      ],
      "execution_count": null,
      "outputs": [
        {
          "output_type": "stream",
          "text": [
            "WARNING:tensorflow:5 out of the last 10 calls to <function recreate_function.<locals>.restored_function_body at 0x7fb5e55696a8> triggered tf.function retracing. Tracing is expensive and the excessive number of tracings could be due to (1) creating @tf.function repeatedly in a loop, (2) passing tensors with different shapes, (3) passing Python objects instead of tensors. For (1), please define your @tf.function outside of the loop. For (2), @tf.function has experimental_relax_shapes=True option that relaxes argument shapes that can avoid unnecessary retracing. For (3), please refer to https://www.tensorflow.org/tutorials/customization/performance#python_or_tensor_args and https://www.tensorflow.org/api_docs/python/tf/function for  more details.\n"
          ],
          "name": "stdout"
        },
        {
          "output_type": "stream",
          "text": [
            "WARNING:tensorflow:5 out of the last 10 calls to <function recreate_function.<locals>.restored_function_body at 0x7fb5e55696a8> triggered tf.function retracing. Tracing is expensive and the excessive number of tracings could be due to (1) creating @tf.function repeatedly in a loop, (2) passing tensors with different shapes, (3) passing Python objects instead of tensors. For (1), please define your @tf.function outside of the loop. For (2), @tf.function has experimental_relax_shapes=True option that relaxes argument shapes that can avoid unnecessary retracing. For (3), please refer to https://www.tensorflow.org/tutorials/customization/performance#python_or_tensor_args and https://www.tensorflow.org/api_docs/python/tf/function for  more details.\n"
          ],
          "name": "stderr"
        },
        {
          "output_type": "stream",
          "text": [
            "WARNING:tensorflow:6 out of the last 11 calls to <function recreate_function.<locals>.restored_function_body at 0x7fb5e62b29d8> triggered tf.function retracing. Tracing is expensive and the excessive number of tracings could be due to (1) creating @tf.function repeatedly in a loop, (2) passing tensors with different shapes, (3) passing Python objects instead of tensors. For (1), please define your @tf.function outside of the loop. For (2), @tf.function has experimental_relax_shapes=True option that relaxes argument shapes that can avoid unnecessary retracing. For (3), please refer to https://www.tensorflow.org/tutorials/customization/performance#python_or_tensor_args and https://www.tensorflow.org/api_docs/python/tf/function for  more details.\n"
          ],
          "name": "stdout"
        },
        {
          "output_type": "stream",
          "text": [
            "WARNING:tensorflow:6 out of the last 11 calls to <function recreate_function.<locals>.restored_function_body at 0x7fb5e62b29d8> triggered tf.function retracing. Tracing is expensive and the excessive number of tracings could be due to (1) creating @tf.function repeatedly in a loop, (2) passing tensors with different shapes, (3) passing Python objects instead of tensors. For (1), please define your @tf.function outside of the loop. For (2), @tf.function has experimental_relax_shapes=True option that relaxes argument shapes that can avoid unnecessary retracing. For (3), please refer to https://www.tensorflow.org/tutorials/customization/performance#python_or_tensor_args and https://www.tensorflow.org/api_docs/python/tf/function for  more details.\n"
          ],
          "name": "stderr"
        },
        {
          "output_type": "stream",
          "text": [
            "module https://tfhub.dev/google/universal-sentence-encoder/4 loaded\n"
          ],
          "name": "stdout"
        }
      ]
    },
    {
      "cell_type": "code",
      "metadata": {
        "id": "gggxQhC5y1et"
      },
      "source": [
        "def embed(i):\n",
        "  return model(i)"
      ],
      "execution_count": null,
      "outputs": []
    },
    {
      "cell_type": "code",
      "metadata": {
        "id": "35XRgm2mxv5O"
      },
      "source": [
        "word=\"Elephant\"\n",
        "sentence=\"I am a sentence for which I would like to get its embedding.\"\n",
        "paragraph=(\n",
        "    \"Universal Sentence Encoder embeddings also support short paragraphs. \"\n",
        "    \"There is no hard limit on how long the paragraph is. Roughly, the longer \"\n",
        "    \"the more 'diluted' the embedding will be.\")"
      ],
      "execution_count": null,
      "outputs": []
    },
    {
      "cell_type": "code",
      "metadata": {
        "id": "RdFksnAlyXlg",
        "outputId": "d03776de-3dbc-4993-f748-21b940ae5ad2",
        "colab": {
          "base_uri": "https://localhost:8080/",
          "height": 35
        }
      },
      "source": [
        "type(paragraph)"
      ],
      "execution_count": null,
      "outputs": [
        {
          "output_type": "execute_result",
          "data": {
            "text/plain": [
              "str"
            ]
          },
          "metadata": {
            "tags": []
          },
          "execution_count": 64
        }
      ]
    },
    {
      "cell_type": "code",
      "metadata": {
        "id": "LuOZjoiwyhN7",
        "outputId": "15c91b8b-a768-4e83-849c-5e5240de18e6",
        "colab": {
          "base_uri": "https://localhost:8080/",
          "height": 72
        }
      },
      "source": [
        "messages=[word,sentence,paragraph]\n",
        "\n",
        "# Reduce logging output.\n",
        "logging.set_verbosity(logging.ERROR)\n",
        "\n",
        "message_embeddings=embed(messages)"
      ],
      "execution_count": null,
      "outputs": [
        {
          "output_type": "stream",
          "text": [
            "WARNING:tensorflow:6 out of the last 11 calls to <function recreate_function.<locals>.restored_function_body at 0x7fb5e557fc80> triggered tf.function retracing. Tracing is expensive and the excessive number of tracings could be due to (1) creating @tf.function repeatedly in a loop, (2) passing tensors with different shapes, (3) passing Python objects instead of tensors. For (1), please define your @tf.function outside of the loop. For (2), @tf.function has experimental_relax_shapes=True option that relaxes argument shapes that can avoid unnecessary retracing. For (3), please refer to https://www.tensorflow.org/tutorials/customization/performance#python_or_tensor_args and https://www.tensorflow.org/api_docs/python/tf/function for  more details.\n"
          ],
          "name": "stdout"
        },
        {
          "output_type": "stream",
          "text": [
            "WARNING:tensorflow:6 out of the last 11 calls to <function recreate_function.<locals>.restored_function_body at 0x7fb5e557fc80> triggered tf.function retracing. Tracing is expensive and the excessive number of tracings could be due to (1) creating @tf.function repeatedly in a loop, (2) passing tensors with different shapes, (3) passing Python objects instead of tensors. For (1), please define your @tf.function outside of the loop. For (2), @tf.function has experimental_relax_shapes=True option that relaxes argument shapes that can avoid unnecessary retracing. For (3), please refer to https://www.tensorflow.org/tutorials/customization/performance#python_or_tensor_args and https://www.tensorflow.org/api_docs/python/tf/function for  more details.\n"
          ],
          "name": "stderr"
        }
      ]
    },
    {
      "cell_type": "code",
      "metadata": {
        "id": "WOE2-Grkzu88",
        "outputId": "3922f637-f3a2-4229-f56c-a49bfd6a5bd8",
        "colab": {
          "base_uri": "https://localhost:8080/",
          "height": 139
        }
      },
      "source": [
        "message_embeddings"
      ],
      "execution_count": null,
      "outputs": [
        {
          "output_type": "execute_result",
          "data": {
            "text/plain": [
              "<tf.Tensor: shape=(3, 512), dtype=float32, numpy=\n",
              "array([[ 0.00834449,  0.00048086,  0.06595249, ..., -0.03266348,\n",
              "         0.02640912, -0.0606688 ],\n",
              "       [ 0.0508086 , -0.0165243 ,  0.01573782, ...,  0.00976658,\n",
              "         0.03170123,  0.0178812 ],\n",
              "       [-0.02833269, -0.05586218, -0.01294143, ..., -0.05133026,\n",
              "         0.01178871,  0.00579202]], dtype=float32)>"
            ]
          },
          "metadata": {
            "tags": []
          },
          "execution_count": 66
        }
      ]
    },
    {
      "cell_type": "code",
      "metadata": {
        "id": "pil70ErX1KVD"
      },
      "source": [
        "for i,message_embedding in enumerate(np.array(message_embeddings).tolist()):\n",
        "  print('Message:{}'.format(messages[i]))\n",
        "  print(\"Embedding size:{}\".format(len(message_embedding)))\n",
        "  print('Embedding:{}'.format(message_embeddings[i]))"
      ],
      "execution_count": null,
      "outputs": []
    },
    {
      "cell_type": "markdown",
      "metadata": {
        "id": "tHtdR5Jt2f35"
      },
      "source": [
        "Semantic Textual Similarity Task Example"
      ]
    },
    {
      "cell_type": "code",
      "metadata": {
        "id": "mWR5OpSw2JzG"
      },
      "source": [
        "def plot_similarity(labels,features,rotation):\n",
        "  corr=np.inner(features,features)\n",
        "  sns.set(font_scale=1.2)\n",
        "  g=sns.heatmap(corr,xticklabels=labels,yticklabels=labels,\n",
        "                vmin=0,vmax=1,cmap='YlOrRd')\n",
        "  g.set_xticklabels(labels,rotation=rotation)\n",
        "\n",
        "def run_and_plot(messages_):\n",
        "  message_embeddings_=embed(messages_)\n",
        "  plot_similarity(messages_,message_embeddings_,90)"
      ],
      "execution_count": null,
      "outputs": []
    },
    {
      "cell_type": "markdown",
      "metadata": {
        "id": "T3bA7htn7lne"
      },
      "source": [
        "Similarity Visualized"
      ]
    },
    {
      "cell_type": "code",
      "metadata": {
        "id": "1hsZBDl85gwu",
        "outputId": "0b5395cd-aabf-416a-82bd-24bbfe47b220",
        "colab": {
          "base_uri": "https://localhost:8080/",
          "height": 554
        }
      },
      "source": [
        "messages=[\n",
        "    # Smartphones\n",
        "    \"I like my phone\",\n",
        "    \"My phone is not good.\",\n",
        "    \"Your cellphone looks great.\",\n",
        "\n",
        "    # Weather\n",
        "    \"Will it snow tomorrow?\",\n",
        "    \"Recently a lot of hurricanes have hit the US\",\n",
        "    \"Global warming is real\",\n",
        "\n",
        "    # Food and health\n",
        "    \"An apple a day, keeps the doctors away\",\n",
        "    \"Eating strawberries is healthy\",\n",
        "    \"Is paleo better than keto?\",\n",
        "\n",
        "    # Asking about age\n",
        "    \"How old are you?\",\n",
        "    \"what is your age?\",\n",
        "]\n",
        "\n",
        "run_and_plot(messages)"
      ],
      "execution_count": null,
      "outputs": [
        {
          "output_type": "display_data",
          "data": {
            "image/png": "[encoded data removed]",
            "text/plain": [
              "<Figure size 432x288 with 2 Axes>"
            ]
          },
          "metadata": {
            "tags": []
          }
        }
      ]
    },
    {
      "cell_type": "markdown",
      "metadata": {
        "id": "Zh6zcecC8L_5"
      },
      "source": [
        "Evaluation: STS (Semantic Textual Similarity) Benchmark\n",
        "\n",
        "The STS Benchmark provides an intristic evaluation of the degree to which similarity scores computed using sentence embeddings align with human judgements. The benchmark requires systems to return similarity scores for a diverse selection of sentence pairs. Pearson correlation is then used to evaluate the quality of the machine similarity scores against human judgements."
      ]
    },
    {
      "cell_type": "code",
      "metadata": {
        "id": "2oBvzS8L5pgD"
      },
      "source": [
        "import scipy\n",
        "import math\n",
        "import csv\n",
        "\n",
        "sts_dataset=tf.keras.utils.get_file(\n",
        "    fname='Stsbenchmark.tar.gz',\n",
        "    origin='http://ixa2.si.ehu.es/stswiki/images/4/48/Stsbenchmark.tar.gz',\n",
        "    untar=True)\n",
        "\n",
        "fpath=os.path.join(os.path.dirname(sts_dataset),'stsbenchmark','sts-dev.csv')\n",
        "sts_dev=pd.read_table(fpath,\n",
        "                      error_bad_lines=False,\n",
        "                      skip_blank_lines=True,\n",
        "                      usecols=[4,5,6],\n",
        "                      names=['sim','sent_1','sent_2'])\n",
        "sts_dev=sts_dev.dropna()"
      ],
      "execution_count": null,
      "outputs": []
    },
    {
      "cell_type": "code",
      "metadata": {
        "id": "7dZPmBnK9nId",
        "outputId": "f1add062-75e0-4fc4-df7b-0e86f6d728b4",
        "colab": {
          "base_uri": "https://localhost:8080/",
          "height": 202
        }
      },
      "source": [
        "sts_dev.head()"
      ],
      "execution_count": null,
      "outputs": [
        {
          "output_type": "execute_result",
          "data": {
            "text/html": [
              "<div>\n",
              "<style scoped>\n",
              "    .dataframe tbody tr th:only-of-type {\n",
              "        vertical-align: middle;\n",
              "    }\n",
              "\n",
              "    .dataframe tbody tr th {\n",
              "        vertical-align: top;\n",
              "    }\n",
              "\n",
              "    .dataframe thead th {\n",
              "        text-align: right;\n",
              "    }\n",
              "</style>\n",
              "<table border=\"1\" class=\"dataframe\">\n",
              "  <thead>\n",
              "    <tr style=\"text-align: right;\">\n",
              "      <th></th>\n",
              "      <th>sim</th>\n",
              "      <th>sent_1</th>\n",
              "      <th>sent_2</th>\n",
              "    </tr>\n",
              "  </thead>\n",
              "  <tbody>\n",
              "    <tr>\n",
              "      <th>0</th>\n",
              "      <td>5.00</td>\n",
              "      <td>A man with a hard hat is dancing.</td>\n",
              "      <td>A man wearing a hard hat is dancing.</td>\n",
              "    </tr>\n",
              "    <tr>\n",
              "      <th>1</th>\n",
              "      <td>4.75</td>\n",
              "      <td>A young child is riding a horse.</td>\n",
              "      <td>A child is riding a horse.</td>\n",
              "    </tr>\n",
              "    <tr>\n",
              "      <th>2</th>\n",
              "      <td>5.00</td>\n",
              "      <td>A man is feeding a mouse to a snake.</td>\n",
              "      <td>The man is feeding a mouse to the snake.</td>\n",
              "    </tr>\n",
              "    <tr>\n",
              "      <th>3</th>\n",
              "      <td>2.40</td>\n",
              "      <td>A woman is playing the guitar.</td>\n",
              "      <td>A man is playing guitar.</td>\n",
              "    </tr>\n",
              "    <tr>\n",
              "      <th>4</th>\n",
              "      <td>2.75</td>\n",
              "      <td>A woman is playing the flute.</td>\n",
              "      <td>A man is playing a flute.</td>\n",
              "    </tr>\n",
              "  </tbody>\n",
              "</table>\n",
              "</div>"
            ],
            "text/plain": [
              "    sim  ...                                    sent_2\n",
              "0  5.00  ...      A man wearing a hard hat is dancing.\n",
              "1  4.75  ...                A child is riding a horse.\n",
              "2  5.00  ...  The man is feeding a mouse to the snake.\n",
              "3  2.40  ...                  A man is playing guitar.\n",
              "4  2.75  ...                 A man is playing a flute.\n",
              "\n",
              "[5 rows x 3 columns]"
            ]
          },
          "metadata": {
            "tags": []
          },
          "execution_count": 71
        }
      ]
    },
    {
      "cell_type": "code",
      "metadata": {
        "id": "jyOCd3Dh9rWE"
      },
      "source": [
        "fpath=os.path.join(os.path.dirname(sts_dataset),\"stsbenchmark\",\"sts-test.csv\")\n",
        "sts_test=pd.read_table(fpath,\n",
        "                      error_bad_lines=False,\n",
        "                      skip_blank_lines=True,\n",
        "                      quoting=csv.QUOTE_NONE,\n",
        "                      usecols=[4,5,6],\n",
        "                      names=['sim','sent_1','sent_2'])"
      ],
      "execution_count": null,
      "outputs": []
    },
    {
      "cell_type": "markdown",
      "metadata": {
        "id": "yIlGgOUACZiG"
      },
      "source": [
        "Evaluate Sentence Embeddings"
      ]
    },
    {
      "cell_type": "code",
      "metadata": {
        "id": "uui6qkLXG6M4",
        "outputId": "9bc9a2e6-10ab-453f-cbd8-379597607018",
        "colab": {
          "base_uri": "https://localhost:8080/",
          "height": 355
        }
      },
      "source": [
        "text=sts_dev[110:120]\n",
        "text"
      ],
      "execution_count": null,
      "outputs": [
        {
          "output_type": "execute_result",
          "data": {
            "text/html": [
              "<div>\n",
              "<style scoped>\n",
              "    .dataframe tbody tr th:only-of-type {\n",
              "        vertical-align: middle;\n",
              "    }\n",
              "\n",
              "    .dataframe tbody tr th {\n",
              "        vertical-align: top;\n",
              "    }\n",
              "\n",
              "    .dataframe thead th {\n",
              "        text-align: right;\n",
              "    }\n",
              "</style>\n",
              "<table border=\"1\" class=\"dataframe\">\n",
              "  <thead>\n",
              "    <tr style=\"text-align: right;\">\n",
              "      <th></th>\n",
              "      <th>sim</th>\n",
              "      <th>sent_1</th>\n",
              "      <th>sent_2</th>\n",
              "    </tr>\n",
              "  </thead>\n",
              "  <tbody>\n",
              "    <tr>\n",
              "      <th>110</th>\n",
              "      <td>0.25</td>\n",
              "      <td>A person is boiling soup.</td>\n",
              "      <td>A woman is placing eggs into a pan.</td>\n",
              "    </tr>\n",
              "    <tr>\n",
              "      <th>111</th>\n",
              "      <td>0.00</td>\n",
              "      <td>A woman is dancing.</td>\n",
              "      <td>A man breaks a stick.</td>\n",
              "    </tr>\n",
              "    <tr>\n",
              "      <th>112</th>\n",
              "      <td>0.00</td>\n",
              "      <td>A ballet dancer is performing on stage.</td>\n",
              "      <td>The beaver is being petted.</td>\n",
              "    </tr>\n",
              "    <tr>\n",
              "      <th>113</th>\n",
              "      <td>0.50</td>\n",
              "      <td>A man shoots a basket.</td>\n",
              "      <td>A man is playing a guitar.</td>\n",
              "    </tr>\n",
              "    <tr>\n",
              "      <th>114</th>\n",
              "      <td>0.00</td>\n",
              "      <td>The elephants are bathing.</td>\n",
              "      <td>Two women are singing.</td>\n",
              "    </tr>\n",
              "    <tr>\n",
              "      <th>115</th>\n",
              "      <td>0.60</td>\n",
              "      <td>The man cut up an onion.</td>\n",
              "      <td>A man is dancing.</td>\n",
              "    </tr>\n",
              "    <tr>\n",
              "      <th>116</th>\n",
              "      <td>4.00</td>\n",
              "      <td>A woman puts cosmetics on her eyelid.</td>\n",
              "      <td>The woman is pencilling on eye shadow.</td>\n",
              "    </tr>\n",
              "    <tr>\n",
              "      <th>117</th>\n",
              "      <td>3.40</td>\n",
              "      <td>A woman and man are riding in a car.</td>\n",
              "      <td>A woman driving a car is talking to the man se...</td>\n",
              "    </tr>\n",
              "    <tr>\n",
              "      <th>118</th>\n",
              "      <td>0.00</td>\n",
              "      <td>A girl is dancing in a cage.</td>\n",
              "      <td>A onion is being chopped.</td>\n",
              "    </tr>\n",
              "    <tr>\n",
              "      <th>119</th>\n",
              "      <td>0.00</td>\n",
              "      <td>A cat is on a robot.</td>\n",
              "      <td>A man is eating bread.</td>\n",
              "    </tr>\n",
              "  </tbody>\n",
              "</table>\n",
              "</div>"
            ],
            "text/plain": [
              "      sim  ...                                             sent_2\n",
              "110  0.25  ...                A woman is placing eggs into a pan.\n",
              "111  0.00  ...                              A man breaks a stick.\n",
              "112  0.00  ...                        The beaver is being petted.\n",
              "113  0.50  ...                         A man is playing a guitar.\n",
              "114  0.00  ...                             Two women are singing.\n",
              "115  0.60  ...                                  A man is dancing.\n",
              "116  4.00  ...             The woman is pencilling on eye shadow.\n",
              "117  3.40  ...  A woman driving a car is talking to the man se...\n",
              "118  0.00  ...                          A onion is being chopped.\n",
              "119  0.00  ...                             A man is eating bread.\n",
              "\n",
              "[10 rows x 3 columns]"
            ]
          },
          "metadata": {
            "tags": []
          },
          "execution_count": 82
        }
      ]
    },
    {
      "cell_type": "code",
      "metadata": {
        "id": "MoRNOg8AGpQM",
        "outputId": "216ea637-49a6-4e90-e6a2-57faf4a4141b",
        "colab": {
          "base_uri": "https://localhost:8080/",
          "height": 69
        }
      },
      "source": [
        "sts_encode1=tf.nn.l2_normalize(embed([text.iloc[2,1]]),axis=1)\n",
        "sts_encode2=tf.nn.l2_normalize(embed([text.iloc[2,2]]),axis=1)\n",
        "cosine_similarities=tf.reduce_sum(tf.multiply(sts_encode1,sts_encode2),axis=1)\n",
        "clip_cosine_similarities=tf.clip_by_value(cosine_similarities, -1.0, 1.0)\n",
        "scores=1-tf.acos(clip_cosine_similarities)/math.pi\n",
        "\n",
        "#print('sts_encode1:',sts_encode1)\n",
        "#print('sts_encode2:',sts_encode2)\n",
        "print('similarity score:',text.iloc[2,0])\n",
        "print('Cosine similarity:',cosine_similarities)\n",
        "print('Scores:',scores)"
      ],
      "execution_count": null,
      "outputs": [
        {
          "output_type": "stream",
          "text": [
            "similarity score: 0.0\n",
            "Cosine similarity: tf.Tensor([0.14230952], shape=(1,), dtype=float32)\n",
            "Scores: tf.Tensor([0.54545283], shape=(1,), dtype=float32)\n"
          ],
          "name": "stdout"
        }
      ]
    },
    {
      "cell_type": "code",
      "metadata": {
        "id": "3J9RLW4IKTnk",
        "outputId": "75f97de3-a92f-48b1-cdd6-6af644da177b",
        "colab": {
          "base_uri": "https://localhost:8080/",
          "height": 121
        }
      },
      "source": [
        "sts_encode1=tf.nn.l2_normalize(embed(tf.constant(text['sent_1'].to_list())),axis=1)\n",
        "sts_encode2=tf.nn.l2_normalize(embed(tf.constant(text['sent_2'].to_list())),axis=1)\n",
        "cosine_similarities=tf.reduce_sum(tf.multiply(sts_encode1,sts_encode2),axis=1)\n",
        "clip_cosine_similarities=tf.clip_by_value(cosine_similarities, -1.0, 1.0)\n",
        "scores=1-tf.acos(clip_cosine_similarities)/math.pi\n",
        "\n",
        "#print('sts_encode1:',sts_encode1)\n",
        "#print('sts_encode2:',sts_encode2)\n",
        "print('Cosine similarity:',cosine_similarities)\n",
        "print('Scores:',scores)"
      ],
      "execution_count": null,
      "outputs": [
        {
          "output_type": "stream",
          "text": [
            "Cosine similarity: tf.Tensor(\n",
            "[0.34531045 0.25158    0.14230952 0.39785403 0.18788688 0.11125185\n",
            " 0.6386131  0.6103774  0.08041349 0.24782655], shape=(10,), dtype=float32)\n",
            "Scores: tf.Tensor(\n",
            "[0.61222637 0.58095014 0.54545283 0.630245   0.56016386 0.53548604\n",
            " 0.7204915  0.7089822  0.5256241  0.5797163 ], shape=(10,), dtype=float32)\n"
          ],
          "name": "stdout"
        }
      ]
    },
    {
      "cell_type": "code",
      "metadata": {
        "id": "I-Nh007T-kMf",
        "outputId": "7ace7f97-436f-42d3-de49-50482a7b6a22",
        "colab": {
          "base_uri": "https://localhost:8080/",
          "height": 52
        }
      },
      "source": [
        "sts_data=sts_dev\n",
        "\n",
        "def run_sts_benchmark(batch):\n",
        "  sts_encode1=tf.nn.l2_normalize(embed(tf.constant(batch['sent_1'].to_list())),axis=1)\n",
        "  sts_encode2=tf.nn.l2_normalize(embed(tf.constant(batch['sent_2'].to_list())),axis=1)\n",
        "  cosine_similarities=tf.reduce_sum(tf.multiply(sts_encode1,sts_encode2),axis=1)\n",
        "  clip_cosine_similarities=tf.clip_by_value(cosine_similarities, -1.0, 1.0)\n",
        "  scores=1-tf.acos(clip_cosine_similarities)/math.pi\n",
        "  return scores\n",
        "\n",
        "scores=[]\n",
        "dev_scores=sts_data['sim'].to_list()\n",
        "for batch in np.array_split(sts_data,10):\n",
        "  scores.extend(run_sts_benchmark(batch))\n",
        "\n",
        "pearson_correlation=scipy.stats.pearsonr(scores,dev_scores)\n",
        "print('Pearson correlation coeeficient={0}\\np_value={1}'.format(\n",
        "    pearson_correlation[0],pearson_correlation[1]))"
      ],
      "execution_count": null,
      "outputs": [
        {
          "output_type": "stream",
          "text": [
            "Pearson correlation coeeficient=0.8036398551227377\n",
            "p_value=0.0\n"
          ],
          "name": "stdout"
        }
      ]
    },
    {
      "cell_type": "code",
      "metadata": {
        "id": "Keq8mbXmE8Ze"
      },
      "source": [
        ""
      ],
      "execution_count": null,
      "outputs": []
    }
  ]
}